{
 "metadata": {
  "name": "",
  "signature": "sha256:d2402920e5f82d6ada1c8a897b189f00bf7a69f810271cab6e9be6342a1ea406"
 },
 "nbformat": 3,
 "nbformat_minor": 0,
 "worksheets": [
  {
   "cells": [
    {
     "cell_type": "code",
     "collapsed": false,
     "input": [
      "from __future__ import print_function\n",
      "from path import path\n",
      "import csv, json"
     ],
     "language": "python",
     "metadata": {},
     "outputs": [],
     "prompt_number": 2
    },
    {
     "cell_type": "code",
     "collapsed": false,
     "input": [
      "outdir = path('npactweb/npactweb/static/drawingtest/')\n",
      "outdir.mkdir_p()\n",
      "sample_nprofile_output_file = 'webroot/uploads/library/NC_007760.80524f06a4021199748d8779c0657200b69e1632.nprofile'\n",
      "sample_extract_output_file = 'webroot/uploads/library/NC_007760.fcc471be757b9fcf724b04ec01e7caed5484e878.genes'\n",
      "sample_nprofile_csv_file = outdir / 'nprofile.csv'\n",
      "sample_nprofile_json_file = outdir / 'nprofile.json'\n",
      "sample_extract_json_file = outdir / 'extract.json'\n",
      "sample_extract_csv_file = outdir / 'extract.csv'"
     ],
     "language": "python",
     "metadata": {},
     "outputs": [],
     "prompt_number": 11
    },
    {
     "cell_type": "code",
     "collapsed": false,
     "input": [
      "def write_csv(ofile, data, header=None):\n",
      "    if not hasattr(ofile, 'write'):\n",
      "        ofile = open(ofile, 'wb')\n",
      "    #CSV writer isn't working for some unknown reason\n",
      "#    cw = csv.writer(output, quoting=csv.QUOTE_NONE)\n",
      "#    if(header):\n",
      "#        cw.writerow(header)\n",
      "#    rows = 0\n",
      "#    cw.writerows(data)\n",
      "    if header:\n",
      "        ofile.write(','.join(header) + '\\n')\n",
      "    for l in data:\n",
      "        ofile.write(','.join(map(str, l)) + '\\n')\n",
      "\n",
      "def write_json(ofile, data, keys):\n",
      "    if not hasattr(ofile, 'write'):\n",
      "        ofile = open(ofile, 'w')\n",
      "    data = [dict(zip(keys,d)) for d in data]\n",
      "    json.dump(data, ofile)"
     ],
     "language": "python",
     "metadata": {},
     "outputs": [],
     "prompt_number": 12
    },
    {
     "cell_type": "code",
     "collapsed": false,
     "input": [
      "def parse_nprofile(ifile):\n",
      "    #Read the file in and split the fields on space\n",
      "    nprofile_lines = [l.split() for l in path(ifile).lines(retain=False)]\n",
      "    #convert the strings to numbers\n",
      "    data = [(int(c), float(x), float(y), float(z)) for (c,x,y,z) in nprofile_lines]\n",
      "    return data\n",
      "\n",
      "nprofile_data = parse_nprofile(sample_nprofile_output_file)\n",
      "write_csv(sample_nprofile_csv_file, nprofile_data, header=['coordinate', 'r', 'g', 'b'])\n",
      "write_json(sample_nprofile_json_file, nprofile_data, ['coordinate', 'r', 'g', 'b'])"
     ],
     "language": "python",
     "metadata": {},
     "outputs": [],
     "prompt_number": 13
    },
    {
     "cell_type": "code",
     "collapsed": false,
     "input": [
      "import re\n",
      "def parse_extract(ifile):\n",
      "    lines = [str.split(l) for l in path(ifile).lines(retain=False)]\n",
      "    for l in lines:\n",
      "        name, coords = l\n",
      "        complement = 0\n",
      "        if coords.startswith('complement'):\n",
      "            coords = coords[11:-1]\n",
      "            complement = 1\n",
      "        begin,end = coords.split('..')\n",
      "        yield name, int(begin), int(end), complement\n",
      "\n",
      "extract_data = list(parse_extract(sample_extract_output_file))\n",
      "write_csv(sample_extract_csv_file, extract_data, header=['name', 'start', 'end', 'complement'])\n",
      "write_json(sample_extract_json_file, extract_data, ['name', 'start', 'end', 'complement'])"
     ],
     "language": "python",
     "metadata": {},
     "outputs": [],
     "prompt_number": 14
    },
    {
     "cell_type": "code",
     "collapsed": false,
     "input": [
      "[print(l) for l in path(sample_nprofile_csv_file).lines(retain=False)[0:10]]; None"
     ],
     "language": "python",
     "metadata": {},
     "outputs": [
      {
       "output_type": "stream",
       "stream": "stdout",
       "text": [
        "coordinate,r,g,b\n",
        "101,73.1,49.3,89.6\n",
        "152,70.1,41.8,95.5\n",
        "203,73.1,41.8,98.5\n",
        "254,77.6,52.2,98.5\n",
        "305,77.6,56.7,98.5\n",
        "356,77.6,62.7,100.0\n",
        "407,74.6,61.2,100.0\n",
        "458,73.1,50.7,100.0\n",
        "509,68.7,49.3,100.0\n"
       ]
      }
     ],
     "prompt_number": 15
    },
    {
     "cell_type": "code",
     "collapsed": false,
     "input": [
      "[print(l) for l in path(sample_extract_csv_file).lines(retain=False)[0:10]]; None"
     ],
     "language": "python",
     "metadata": {},
     "outputs": [
      {
       "output_type": "stream",
       "stream": "stdout",
       "text": [
        "name,start,end,complement\n",
        "Adeh_0001,22,1395,0\n",
        "Adeh_0002,1811,2938,0\n",
        "Adeh_0003,2958,4076,0\n",
        "Adeh_0004,4264,6651,0\n",
        "Adeh_0005,6733,7728,0\n",
        "Adeh_0006,7938,8459,0\n",
        "Adeh_0007,8483,9259,0\n",
        "Adeh_0008,9256,11391,1\n",
        "Adeh_0009,11509,12621,1\n"
       ]
      }
     ],
     "prompt_number": 16
    },
    {
     "cell_type": "code",
     "collapsed": false,
     "input": [
      "print(json.dumps(json.load(open(sample_nprofile_json_file))[0:4], indent=3))"
     ],
     "language": "python",
     "metadata": {},
     "outputs": [
      {
       "output_type": "stream",
       "stream": "stdout",
       "text": [
        "[\n",
        "   {\n",
        "      \"coordinate\": 101, \n",
        "      \"r\": 73.1, \n",
        "      \"b\": 89.6, \n",
        "      \"g\": 49.3\n",
        "   }, \n",
        "   {\n",
        "      \"coordinate\": 152, \n",
        "      \"r\": 70.1, \n",
        "      \"b\": 95.5, \n",
        "      \"g\": 41.8\n",
        "   }, \n",
        "   {\n",
        "      \"coordinate\": 203, \n",
        "      \"r\": 73.1, \n",
        "      \"b\": 98.5, \n",
        "      \"g\": 41.8\n",
        "   }, \n",
        "   {\n",
        "      \"coordinate\": 254, \n",
        "      \"r\": 77.6, \n",
        "      \"b\": 98.5, \n",
        "      \"g\": 52.2\n",
        "   }\n",
        "]\n"
       ]
      }
     ],
     "prompt_number": 17
    },
    {
     "cell_type": "code",
     "collapsed": false,
     "input": [
      "print(json.dumps(json.load(open(sample_extract_json_file))[0:4], indent=3))"
     ],
     "language": "python",
     "metadata": {},
     "outputs": [
      {
       "output_type": "stream",
       "stream": "stdout",
       "text": [
        "[\n",
        "   {\n",
        "      \"start\": 22, \n",
        "      \"complement\": 0, \n",
        "      \"end\": 1395, \n",
        "      \"name\": \"Adeh_0001\"\n",
        "   }, \n",
        "   {\n",
        "      \"start\": 1811, \n",
        "      \"complement\": 0, \n",
        "      \"end\": 2938, \n",
        "      \"name\": \"Adeh_0002\"\n",
        "   }, \n",
        "   {\n",
        "      \"start\": 2958, \n",
        "      \"complement\": 0, \n",
        "      \"end\": 4076, \n",
        "      \"name\": \"Adeh_0003\"\n",
        "   }, \n",
        "   {\n",
        "      \"start\": 4264, \n",
        "      \"complement\": 0, \n",
        "      \"end\": 6651, \n",
        "      \"name\": \"Adeh_0004\"\n",
        "   }\n",
        "]\n"
       ]
      }
     ],
     "prompt_number": 18
    },
    {
     "cell_type": "code",
     "collapsed": false,
     "input": [],
     "language": "python",
     "metadata": {},
     "outputs": []
    }
   ],
   "metadata": {}
  }
 ]
}